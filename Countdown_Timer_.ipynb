{
  "nbformat": 4,
  "nbformat_minor": 0,
  "metadata": {
    "colab": {
      "provenance": []
    },
    "kernelspec": {
      "name": "python3",
      "display_name": "Python 3"
    },
    "language_info": {
      "name": "python"
    }
  },
  "cells": [
    {
      "cell_type": "code",
      "execution_count": 1,
      "metadata": {
        "colab": {
          "base_uri": "https://localhost:8080/"
        },
        "id": "KJm0tBgZbR3O",
        "outputId": "bf8f17ed-634c-4420-97f1-8a84711af4ca"
      },
      "outputs": [
        {
          "output_type": "stream",
          "name": "stdout",
          "text": [
            "Enter time in seconds: 1\n",
            "1\n",
            "⏰ Time's up!\n"
          ]
        }
      ],
      "source": [
        "import time\n",
        "\n",
        "seconds = int(input(\"Enter time in seconds: \"))\n",
        "\n",
        "for i in range(seconds, 0, -1):\n",
        "    print(i)\n",
        "    time.sleep(1)\n",
        "\n",
        "print(\"⏰ Time's up!\")\n"
      ]
    }
  ]
}